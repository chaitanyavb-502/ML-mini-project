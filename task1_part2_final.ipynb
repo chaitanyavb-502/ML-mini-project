{
 "cells": [
  {
   "cell_type": "code",
   "execution_count": 9,
   "metadata": {},
   "outputs": [
    {
     "name": "stdout",
     "output_type": "stream",
     "text": [
      "Accuracy (Concatenation) with 20% training data: 0.97\n",
      "Accuracy (Concatenation) with 40% training data: 0.97\n",
      "Accuracy (Concatenation) with 60% training data: 0.98\n",
      "Accuracy (Concatenation) with 80% training data: 0.98\n",
      "Accuracy (Concatenation) with 100% training data: 0.99\n"
     ]
    }
   ],
   "source": [
    "import numpy as np\n",
    "import matplotlib.pyplot as plt\n",
    "from sklearn.svm import SVC\n",
    "from sklearn.linear_model import LogisticRegression\n",
    "from sklearn.preprocessing import StandardScaler\n",
    "from sklearn.metrics import accuracy_score\n",
    "from tensorflow.keras import layers, models\n",
    "\n",
    "# Load datasets\n",
    "train_feat = np.load(\"datasets/train/train_feature.npz\", allow_pickle=True)\n",
    "train_feat_X = train_feat['features']\n",
    "train_feat_Y = train_feat['label']\n",
    "valid_feat = np.load(\"datasets/valid/valid_feature.npz\", allow_pickle=True)\n",
    "valid_feat_X = valid_feat['features']\n",
    "valid_feat_Y = valid_feat['label']\n",
    "\n",
    "test_feat = np.load(\"datasets/test/test_feature.npz\", allow_pickle=True)\n",
    "test_feat_X = test_feat['features']\n",
    "percentages = [0.2, 0.4, 0.6, 0.8, 1.0]\n",
    "\n",
    "def evaluate_LR(train_feat_X_method, valid_feat_X_method, method_name):\n",
    "    accuracies = []\n",
    "    for percentage in percentages:\n",
    "        n_samples = int(len(train_feat_X_method) * percentage)\n",
    "        x_train_subset = train_feat_X_method[:n_samples]\n",
    "        y_train_subset = train_feat_Y[:n_samples]\n",
    "        LR_classifier = LogisticRegression(random_state=42)\n",
    "        LR_classifier.fit(x_train_subset, y_train_subset)\n",
    "\n",
    "        # Predict on the validation set\n",
    "        y_pred = LR_classifier.predict(valid_feat_X_method)\n",
    "\n",
    "        # Calculate accuracy\n",
    "        accuracy = accuracy_score(valid_feat_Y, y_pred)\n",
    "        accuracies.append(accuracy)\n",
    "        print(f\"Accuracy ({method_name}) with {int(percentage*100)}% training data: {accuracy:.2f}\")\n",
    "    \n",
    "    return accuracies\n",
    "# Concatenation of Embeddings\n",
    "train_feat_X_concat = train_feat_X.reshape(train_feat_X.shape[0], -1)\n",
    "valid_feat_X_concat = valid_feat_X.reshape(valid_feat_X.shape[0], -1)\n",
    "accuracies_concat = evaluate_LR(train_feat_X_concat, valid_feat_X_concat, \"Concatenation\")\n"
   ]
  },
  {
   "cell_type": "code",
   "execution_count": null,
   "metadata": {},
   "outputs": [],
   "source": []
  }
 ],
 "metadata": {
  "kernelspec": {
   "display_name": "Python 3 (ipykernel)",
   "language": "python",
   "name": "python3"
  },
  "language_info": {
   "codemirror_mode": {
    "name": "ipython",
    "version": 3
   },
   "file_extension": ".py",
   "mimetype": "text/x-python",
   "name": "python",
   "nbconvert_exporter": "python",
   "pygments_lexer": "ipython3",
   "version": "3.12.7"
  }
 },
 "nbformat": 4,
 "nbformat_minor": 4
}
